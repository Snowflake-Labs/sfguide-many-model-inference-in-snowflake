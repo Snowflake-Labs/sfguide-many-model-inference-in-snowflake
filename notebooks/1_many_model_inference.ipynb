{
 "cells": [
  {
   "cell_type": "markdown",
   "id": "764f9069-1d68-428d-adfd-47939ee2ac1e",
   "metadata": {
    "collapsed": false,
    "name": "OVERVIEW",
    "resultHeight": 169
   },
   "source": [
    "## Many Model Inference in Snowflake\n",
    "\n",
    "This notebook accompanies the [Many Model Inference in Snowflake](https://quickstarts.snowflake.com/guide/many-model-inference-in-snowflake/index.html?index=..%2F..index#0) quickstart. In the notebook, we will show how you can use pretrained models to define a [partitioned custom model](https://docs.snowflake.com/en/developer-guide/snowflake-ml/model-registry/partitioned-custom-models) in Snowflake. The model will run inference using a model based on the value in the partition column -- in our case the Station ID. \n",
    "\n",
    "We will start with imports and defining the session and constants. Please add `snowflake-ml-python` fron the packages dropdown before starting. "
   ]
  },
  {
   "cell_type": "code",
   "execution_count": null,
   "id": "3775908f-ca36-4846-8f38-5adca39217f2",
   "metadata": {
    "codeCollapsed": false,
    "collapsed": false,
    "language": "python",
    "name": "get_snowflake_session",
    "resultHeight": 0
   },
   "outputs": [],
   "source": [
    "from snowflake.snowpark import Session\n",
    "from snowflake.ml.model import custom_model\n",
    "from snowflake.ml.registry import registry\n",
    "\n",
    "from typing import Optional\n",
    "import warnings\n",
    "import pandas as pd\n",
    "\n",
    "from snowflake.snowpark.context import get_active_session\n",
    "session = get_active_session()\n",
    "\n",
    "# Add a query tag to the session.This helps with performance monitoring and troubleshooting\n",
    "session.query_tag = {\"origin\":\"sf_sit-is\", \n",
    "                     \"name\":\"partitioned_models_stateful\", \n",
    "                     \"version\":{\"major\":1, \"minor\":0},\n",
    "                     \"attributes\":{\"is_quickstart\":1, \"source\":\"notebook\"}}"
   ]
  },
  {
   "cell_type": "code",
   "execution_count": null,
   "id": "21853959-8c65-4199-aa10-00c8f8777fea",
   "metadata": {
    "codeCollapsed": false,
    "collapsed": false,
    "language": "python",
    "name": "set_constants",
    "resultHeight": 0
   },
   "outputs": [],
   "source": [
    "DATABASE = session.get_current_database()\n",
    "SCHEMA = session.get_current_schema()\n",
    "\n",
    "_INPUT_COLS = ['WEEKDAY_0', 'WEEKDAY_1', 'WEEKDAY_2', 'WEEKDAY_3', 'WEEKDAY_4',\n",
    "               'WEEKDAY_5', 'WEEKDAY_6', 'HOUR_0', 'HOUR_1', 'HOUR_2', 'HOUR_3',\n",
    "               'HOUR_4', 'HOUR_5', 'HOUR_6', 'HOUR_7', 'HOUR_8', 'HOUR_9',\n",
    "               'HOUR_10', 'HOUR_11', 'HOUR_12', 'HOUR_13', 'HOUR_14', 'HOUR_15',\n",
    "               'HOUR_16', 'HOUR_17', 'HOUR_18', 'HOUR_19', 'HOUR_20', 'HOUR_21',\n",
    "               'HOUR_22', 'HOUR_23', 'USERTYPE_Customer', 'USERTYPE_Subscriber', \n",
    "               'GENDER_1', 'GENDER_2', 'GENDER_0']"
   ]
  },
  {
   "cell_type": "markdown",
   "id": "8d629a97-a9ad-480f-ad00-e003f4213f35",
   "metadata": {
    "collapsed": false,
    "name": "DEFINE_MODEL",
    "resultHeight": 113
   },
   "source": [
    "### Define the Partitioned Model\n",
    "\n",
    "We will now define the custom model. The partitoned custom model class inherits from `snowflake.ml.model.custom_model.CustomModel`, and inference methods are declared with the `@custom_model.partitioned_inference_api` decorator"
   ]
  },
  {
   "cell_type": "code",
   "execution_count": null,
   "id": "d47d3972-70dd-4533-b57a-fca016b9fff7",
   "metadata": {
    "codeCollapsed": false,
    "collapsed": false,
    "language": "python",
    "name": "define_partitioned_model",
    "resultHeight": 0
   },
   "outputs": [],
   "source": [
    "import pickle\n",
    "\n",
    "class BikeTripDurationForecastingModelPickleInput(custom_model.CustomModel):\n",
    "    def __init__(self, context: Optional[custom_model.ModelContext] = None) -> None:\n",
    "        super().__init__(context)\n",
    "        self.partition_id = None\n",
    "        self.model = None\n",
    "\n",
    "    @custom_model.partitioned_inference_api\n",
    "    def predict(self, input: pd.DataFrame) -> pd.DataFrame:\n",
    "        input_cols = _INPUT_COLS\n",
    "\n",
    "        if self.partition_id != input['START_STATION_ID'][0]:\n",
    "            self.partition_id = input['START_STATION_ID'][0]\n",
    "            self.model = pickle.loads(input['MODEL_PICKLE_BYTES'][0])\n",
    "\n",
    "        model_output = self.model.predict(input[input_cols])\n",
    "        res = pd.DataFrame(model_output, columns=[\"DURATION\"])\n",
    "        res['START_STATION_ID_OUT'] = input['START_STATION_ID']\n",
    "        return res"
   ]
  },
  {
   "cell_type": "code",
   "execution_count": null,
   "id": "aeb0aae6-0a1f-4ea0-be9f-84ebf1a9934c",
   "metadata": {
    "codeCollapsed": false,
    "collapsed": false,
    "language": "python",
    "name": "create_model_instance",
    "resultHeight": 0
   },
   "outputs": [],
   "source": [
    "m = BikeTripDurationForecastingModelPickleInput()"
   ]
  },
  {
   "cell_type": "code",
   "execution_count": null,
   "id": "27aa2aa7-d5b8-45d8-911b-89a120f90037",
   "metadata": {
    "collapsed": false,
    "language": "python",
    "name": "show_model_instance",
    "resultHeight": 346
   },
   "outputs": [],
   "source": [
    "m"
   ]
  },
  {
   "cell_type": "markdown",
   "id": "247d2a86-ab6a-4f05-a176-88baf5b8de50",
   "metadata": {
    "collapsed": false,
    "name": "LOG_MODEL",
    "resultHeight": 113
   },
   "source": [
    "### Log Model to Model Registry\n",
    "\n",
    "Next we will log the model to Snowflake Model Registry. We will first define the signature for our prediction method, then define the registry, and finally log the model."
   ]
  },
  {
   "cell_type": "code",
   "execution_count": null,
   "id": "1c91345f-228d-46ce-94d6-4df0e964b967",
   "metadata": {
    "codeCollapsed": false,
    "collapsed": false,
    "language": "python",
    "name": "define_signature",
    "resultHeight": 0
   },
   "outputs": [],
   "source": [
    "from snowflake.ml.model.model_signature import FeatureSpec, DataType, ModelSignature\n",
    "\n",
    "\n",
    "input_signature = [\n",
    "    FeatureSpec(dtype=DataType.BOOL, name=n) for n in _INPUT_COLS\n",
    "]\n",
    "input_signature.append(\n",
    "    FeatureSpec(dtype=DataType.BYTES, name='MODEL_PICKLE_BYTES')\n",
    ")\n",
    "input_signature.append(\n",
    "    FeatureSpec(dtype=DataType.INT64, name='START_STATION_ID')\n",
    ")\n",
    "\n",
    "output_signature = [\n",
    "    FeatureSpec(dtype=DataType.FLOAT, name='DURATION'),\n",
    "    FeatureSpec(dtype=DataType.STRING, name='START_STATION_ID_OUT'),\n",
    "]\n",
    "\n",
    "signature = ModelSignature(\n",
    "    inputs=input_signature,\n",
    "    outputs=output_signature,\n",
    ")"
   ]
  },
  {
   "cell_type": "code",
   "execution_count": null,
   "id": "f7ef97b6-9f0c-439b-ab4d-bf501e1f2b90",
   "metadata": {
    "codeCollapsed": false,
    "collapsed": false,
    "language": "python",
    "name": "define_registry",
    "resultHeight": 0
   },
   "outputs": [],
   "source": [
    "# Log model\n",
    "reg = registry.Registry(session=session, \n",
    "                        database_name=DATABASE, \n",
    "                        schema_name=SCHEMA)"
   ]
  },
  {
   "cell_type": "code",
   "execution_count": null,
   "id": "73e81611-d161-4d4c-91f5-5638d369fdf5",
   "metadata": {
    "collapsed": false,
    "language": "python",
    "name": "show_existing_models",
    "resultHeight": 112
   },
   "outputs": [],
   "source": [
    "reg.show_models()"
   ]
  },
  {
   "cell_type": "code",
   "execution_count": null,
   "id": "d516990e-db0f-4234-930a-29c997378814",
   "metadata": {
    "codeCollapsed": false,
    "collapsed": false,
    "language": "python",
    "name": "log_model",
    "resultHeight": 0
   },
   "outputs": [],
   "source": [
    "options = {\n",
    "    \"function_type\": \"TABLE_FUNCTION\",\n",
    "    \"relax_version\": False\n",
    "}\n",
    "\n",
    "mv = reg.log_model(\n",
    "    m,\n",
    "    model_name=\"biketrip_duration_forecast_model\",\n",
    "    version_name=\"v1\",\n",
    "    options=options,\n",
    "    conda_dependencies=[\"pandas\", \"xgboost\"],\n",
    "    signatures={\"predict\": signature}\n",
    ")"
   ]
  },
  {
   "cell_type": "markdown",
   "id": "a9f4edbb-abdf-4e16-8c06-b3ac7d28c15e",
   "metadata": {
    "collapsed": false,
    "name": "INFERENCE",
    "resultHeight": 113
   },
   "source": [
    "### Run Inference\n",
    "\n",
    "Finally, we will run inference using our custom partitioned model. We will pull the input data we defined in the setup notebook, then run inference, and save the results to a table in Snowflake. "
   ]
  },
  {
   "cell_type": "code",
   "execution_count": null,
   "id": "0dd3ba04-0515-44b2-a8a8-e4d8ca9562d5",
   "metadata": {
    "codeCollapsed": false,
    "collapsed": false,
    "language": "python",
    "name": "create_input_df",
    "resultHeight": 351
   },
   "outputs": [],
   "source": [
    "input_df = session.table(f\"{DATABASE}.{SCHEMA}.INPUT_DATA\")\n",
    "\n",
    "model_bytes_table = session.table(f\"{DATABASE}.{SCHEMA}.MODELS_TABLE\")\n",
    "input_df = input_df.join(model_bytes_table, on=\"START_STATION_ID\", type=\"left\")\n",
    "input_df.show()"
   ]
  },
  {
   "cell_type": "code",
   "execution_count": null,
   "id": "844dbac9-b9f4-40ab-a53c-2ceba7fb324b",
   "metadata": {
    "collapsed": false,
    "language": "python",
    "name": "run_inference",
    "resultHeight": 0
   },
   "outputs": [],
   "source": [
    "result = mv.run(input_df, partition_column=\"START_STATION_ID\")"
   ]
  },
  {
   "cell_type": "code",
   "execution_count": null,
   "id": "8dbc6f40-60c6-486e-97c7-a870fd8ea026",
   "metadata": {
    "codeCollapsed": false,
    "collapsed": false,
    "language": "python",
    "name": "save_results",
    "resultHeight": 0
   },
   "outputs": [],
   "source": [
    "result.write.mode(\"overwrite\").save_as_table(\"RESULTS\")"
   ]
  }
 ],
 "metadata": {
  "kernelspec": {
   "display_name": "Streamlit Notebook",
   "name": "streamlit"
  }
 },
 "nbformat": 4,
 "nbformat_minor": 5
}
